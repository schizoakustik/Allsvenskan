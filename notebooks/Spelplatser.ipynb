{
 "cells": [
  {
   "cell_type": "markdown",
   "metadata": {},
   "source": [
    "# Spelplatser\n",
    "\n",
    "Vad finns det att säga om var matcherna har spelats?\n",
    "\n",
    "Jag har samlat in koordinaterna för alla allsvenska lags hemmaarenor för att kunna titta på saker som vilken säsong som var nordligast, och var varje säsong spelats i genomsnitt.\n",
    "\n",
    "*OBS:* En del lag har bytt arena under årens gång. Det har jag inte tagit med i datan än så länge."
   ]
  },
  {
   "cell_type": "code",
   "execution_count": 4,
   "metadata": {},
   "outputs": [],
   "source": [
    "%matplotlib inline\n",
    "import requests\n",
    "import json\n",
    "import numpy as np\n",
    "import pandas as pd\n",
    "import scipy.stats as stats\n",
    "import matplotlib.pyplot as plt\n",
    "from matplotlib import colormaps as cmaps\n",
    "\n",
    "# plt.rcParams['text.usetex'] = True\n",
    "plt.rcParams['font.family'] = 'serif'"
   ]
  },
  {
   "cell_type": "code",
   "execution_count": 7,
   "metadata": {},
   "outputs": [],
   "source": [
    "df = pd.read_csv('../data/allsvenskan.csv')\n",
    "df['ppg_3pwin'] = (df.wins*3 + df.draws)/df.games\n",
    "venues = pd.read_csv('../data/venues.csv')\n",
    "# final_rounds = df[df['final'] == True]\n",
    "final_rounds = df.query('final == 1')\n",
    "since_2008 = df.loc[2008:]\n"
   ]
  },
  {
   "cell_type": "code",
   "execution_count": 8,
   "metadata": {},
   "outputs": [
    {
     "data": {
      "application/vnd.plotly.v1+json": {
       "config": {
        "plotlyServerURL": "https://plot.ly"
       },
       "data": [
        {
         "hovertemplate": "venue_lat=%{lat}<br>venue_lon=%{lon}<br>year=%{marker.color}<extra></extra>",
         "lat": [
          57.954846626497236,
          57.85842543781814,
          58.03476803041073,
          57.83598088575649,
          57.80243796296296,
          57.631280555555556,
          57.834984259259265,
          57.57533148148148,
          57.74891944444445,
          58.20957878787879,
          58.17461388888889,
          58.13717934644007,
          58.03887041738175,
          57.92794323532896,
          58.215145087180815,
          58.06004078775212,
          58.12877934644007,
          57.95733119829193,
          58.028095087180816,
          58.0364787037037,
          57.61418432299134,
          57.70041514501575,
          58.01601929260195,
          57.70041514501575,
          57.63219629629629,
          57.700970700571304,
          57.77459858016971,
          57.76215506165119,
          57.824720700571305,
          58.02833181168242,
          58.06606454929076,
          58.313556678920385,
          58.007432604846315,
          57.92347070057131,
          57.84732473447594,
          58.06659695669816,
          58.060484589460195,
          57.68406851704108,
          58.04131917892039,
          58.13308736723798,
          58.51716080783268,
          58.22679107094168,
          58.498436128042094,
          57.83857347834908,
          58.16168696661514,
          58.10873677151298,
          58.615128438179646,
          57.869860845587056,
          58.12442521611598,
          58.21322415247499,
          58.18336005750738,
          58.11189580415398,
          58.1260968569743,
          57.91320731209049,
          57.92741167716986,
          57.9605069152651,
          58.32934501050319,
          57.9091882931639,
          57.98864842003402,
          58.11729014501575,
          57.53152625612686,
          58.000578438179645,
          58.338988255409525,
          58.553907104128974,
          58.535549366520634,
          58.212903438179644,
          58.34564701760254,
          57.741220396241125,
          57.73622137858708,
          57.520519280664075,
          57.762539454947635,
          58.137320124299215,
          57.71590726379036,
          57.5428295981244,
          57.64160691526509,
          58.08832162925557,
          58.05402826149129,
          58.01661402576134,
          58.105006882904206,
          57.78812196226928,
          58.044345721808746,
          57.79248226210615,
          57.91454342320161,
          58.16479328113552,
          57.88932475712066,
          57.71488909280329,
          57.72830923169218,
          58.26078073115418,
          57.85821478724773,
          57.864030759469955,
          58.25849972880488,
          58.63969764547154,
          58.78153692833776,
          58.828983850092854,
          58.68625915055998,
          58.145263345542425,
          58.3314786233202,
          58.112335539448864,
          57.96250292887576
         ],
         "legendgroup": "",
         "lon": [
          14.664755438355657,
          14.148704208626825,
          14.273472727145341,
          14.337926734651953,
          14.363697685185185,
          13.938790277777777,
          13.903998611111112,
          13.94374398148148,
          13.976105092592592,
          14.156028787878789,
          14.321706944444443,
          14.182810843824571,
          14.325350078476525,
          13.81568121419494,
          14.374543251231978,
          14.324294985883933,
          14.370237695676423,
          14.23886223271346,
          14.111686306787535,
          14.095304629629629,
          13.749164246469448,
          14.097288308726029,
          14.13324151297949,
          14.097288308726029,
          13.854239814814816,
          14.384695716133436,
          14.641820193674368,
          14.113453989970663,
          14.30437164205936,
          14.709834605022325,
          15.033137728563167,
          15.130098839674277,
          14.932126154489092,
          14.676755901318622,
          14.552965969303907,
          14.864457173007613,
          14.523214234651954,
          14.372833821634496,
          14.619966432266871,
          14.41373691983714,
          14.989518424199836,
          14.325334142059361,
          15.038709111265952,
          14.399917475392693,
          14.991548374079548,
          14.848012265600204,
          15.767846524859463,
          14.913716432266872,
          15.164979146805056,
          15.339333067636106,
          14.942880871536365,
          15.253610513371603,
          15.226105428757021,
          15.197465672101762,
          15.087181941943031,
          15.035931941943032,
          15.209395830831921,
          14.794232753170471,
          14.402393727385013,
          14.889163308726028,
          14.706454975392695,
          14.968253469303908,
          14.536863448807141,
          14.89217073901465,
          14.49236298584418,
          14.795512265600204,
          14.934819471901903,
          14.426329303804568,
          13.825748295358496,
          14.076226766330011,
          14.454554560990653,
          14.613747121765169,
          13.977368342586157,
          13.907289861568106,
          14.456737100673191,
          14.015687203859855,
          14.527792658958356,
          14.817880871536365,
          14.771868966774463,
          14.602722141377637,
          14.62253472245042,
          14.411799284920574,
          14.949018846704936,
          14.803282992912765,
          14.574855624305503,
          14.615319601094315,
          14.60882654553876,
          15.063178039488484,
          15.12669842053876,
          14.836785226094316,
          15.012850173810783,
          15.008822396033004,
          15.299621611714812,
          15.621774994063284,
          15.187781333937034,
          14.761797895542866,
          14.892457617765087,
          14.975715361714812,
          15.020096506653976
         ],
         "marker": {
          "color": [
           1925,
           1926,
           1927,
           1928,
           1929,
           1930,
           1931,
           1932,
           1933,
           1934,
           1935,
           1936,
           1937,
           1938,
           1939,
           1940,
           1941,
           1942,
           1943,
           1944,
           1945,
           1946,
           1947,
           1948,
           1949,
           1950,
           1951,
           1952,
           1953,
           1954,
           1955,
           1956,
           1957,
           1958,
           1959,
           1960,
           1961,
           1962,
           1963,
           1964,
           1965,
           1966,
           1967,
           1968,
           1969,
           1970,
           1971,
           1972,
           1973,
           1974,
           1975,
           1976,
           1977,
           1978,
           1979,
           1980,
           1981,
           1982,
           1983,
           1984,
           1985,
           1986,
           1987,
           1988,
           1989,
           1990,
           1991,
           1992,
           1993,
           1994,
           1995,
           1996,
           1997,
           1998,
           1999,
           2000,
           2001,
           2002,
           2003,
           2004,
           2005,
           2006,
           2007,
           2008,
           2009,
           2010,
           2011,
           2012,
           2013,
           2014,
           2015,
           2016,
           2017,
           2018,
           2019,
           2020,
           2021,
           2022,
           2023
          ],
          "coloraxis": "coloraxis",
          "opacity": 0.7,
          "size": [
           57.954846626497236,
           57.85842543781814,
           58.03476803041073,
           57.83598088575649,
           57.80243796296296,
           57.631280555555556,
           57.834984259259265,
           57.57533148148148,
           57.74891944444445,
           58.20957878787879,
           58.17461388888889,
           58.13717934644007,
           58.03887041738175,
           57.92794323532896,
           58.215145087180815,
           58.06004078775212,
           58.12877934644007,
           57.95733119829193,
           58.028095087180816,
           58.0364787037037,
           57.61418432299134,
           57.70041514501575,
           58.01601929260195,
           57.70041514501575,
           57.63219629629629,
           57.700970700571304,
           57.77459858016971,
           57.76215506165119,
           57.824720700571305,
           58.02833181168242,
           58.06606454929076,
           58.313556678920385,
           58.007432604846315,
           57.92347070057131,
           57.84732473447594,
           58.06659695669816,
           58.060484589460195,
           57.68406851704108,
           58.04131917892039,
           58.13308736723798,
           58.51716080783268,
           58.22679107094168,
           58.498436128042094,
           57.83857347834908,
           58.16168696661514,
           58.10873677151298,
           58.615128438179646,
           57.869860845587056,
           58.12442521611598,
           58.21322415247499,
           58.18336005750738,
           58.11189580415398,
           58.1260968569743,
           57.91320731209049,
           57.92741167716986,
           57.9605069152651,
           58.32934501050319,
           57.9091882931639,
           57.98864842003402,
           58.11729014501575,
           57.53152625612686,
           58.000578438179645,
           58.338988255409525,
           58.553907104128974,
           58.535549366520634,
           58.212903438179644,
           58.34564701760254,
           57.741220396241125,
           57.73622137858708,
           57.520519280664075,
           57.762539454947635,
           58.137320124299215,
           57.71590726379036,
           57.5428295981244,
           57.64160691526509,
           58.08832162925557,
           58.05402826149129,
           58.01661402576134,
           58.105006882904206,
           57.78812196226928,
           58.044345721808746,
           57.79248226210615,
           57.91454342320161,
           58.16479328113552,
           57.88932475712066,
           57.71488909280329,
           57.72830923169218,
           58.26078073115418,
           57.85821478724773,
           57.864030759469955,
           58.25849972880488,
           58.63969764547154,
           58.78153692833776,
           58.828983850092854,
           58.68625915055998,
           58.145263345542425,
           58.3314786233202,
           58.112335539448864,
           57.96250292887576
          ],
          "sizemode": "area",
          "sizeref": 0.5882898385009285
         },
         "mode": "markers",
         "name": "",
         "showlegend": false,
         "subplot": "mapbox",
         "type": "scattermapbox"
        }
       ],
       "layout": {
        "coloraxis": {
         "colorbar": {
          "title": {
           "text": "year"
          }
         },
         "colorscale": [
          [
           0,
           "rgb(0,0,255)"
          ],
          [
           1,
           "rgb(255,0,0)"
          ]
         ]
        },
        "font": {
         "family": "serif"
        },
        "height": 1080,
        "legend": {
         "itemsizing": "constant",
         "tracegroupgap": 0
        },
        "mapbox": {
         "center": {
          "lat": 58.22199037080967,
          "lon": 14.60690179739047
         },
         "domain": {
          "x": [
           0,
           1
          ],
          "y": [
           0,
           1
          ]
         },
         "style": "carto-positron",
         "zoom": 6.5
        },
        "margin": {
         "autoexpand": true,
         "b": 25,
         "l": 25,
         "r": 25,
         "t": 50
        },
        "paper_bgcolor": "#D6D7D7",
        "template": {
         "data": {
          "bar": [
           {
            "error_x": {
             "color": "#2a3f5f"
            },
            "error_y": {
             "color": "#2a3f5f"
            },
            "marker": {
             "line": {
              "color": "#E5ECF6",
              "width": 0.5
             },
             "pattern": {
              "fillmode": "overlay",
              "size": 10,
              "solidity": 0.2
             }
            },
            "type": "bar"
           }
          ],
          "barpolar": [
           {
            "marker": {
             "line": {
              "color": "#E5ECF6",
              "width": 0.5
             },
             "pattern": {
              "fillmode": "overlay",
              "size": 10,
              "solidity": 0.2
             }
            },
            "type": "barpolar"
           }
          ],
          "carpet": [
           {
            "aaxis": {
             "endlinecolor": "#2a3f5f",
             "gridcolor": "white",
             "linecolor": "white",
             "minorgridcolor": "white",
             "startlinecolor": "#2a3f5f"
            },
            "baxis": {
             "endlinecolor": "#2a3f5f",
             "gridcolor": "white",
             "linecolor": "white",
             "minorgridcolor": "white",
             "startlinecolor": "#2a3f5f"
            },
            "type": "carpet"
           }
          ],
          "choropleth": [
           {
            "colorbar": {
             "outlinewidth": 0,
             "ticks": ""
            },
            "type": "choropleth"
           }
          ],
          "contour": [
           {
            "colorbar": {
             "outlinewidth": 0,
             "ticks": ""
            },
            "colorscale": [
             [
              0,
              "#0d0887"
             ],
             [
              0.1111111111111111,
              "#46039f"
             ],
             [
              0.2222222222222222,
              "#7201a8"
             ],
             [
              0.3333333333333333,
              "#9c179e"
             ],
             [
              0.4444444444444444,
              "#bd3786"
             ],
             [
              0.5555555555555556,
              "#d8576b"
             ],
             [
              0.6666666666666666,
              "#ed7953"
             ],
             [
              0.7777777777777778,
              "#fb9f3a"
             ],
             [
              0.8888888888888888,
              "#fdca26"
             ],
             [
              1,
              "#f0f921"
             ]
            ],
            "type": "contour"
           }
          ],
          "contourcarpet": [
           {
            "colorbar": {
             "outlinewidth": 0,
             "ticks": ""
            },
            "type": "contourcarpet"
           }
          ],
          "heatmap": [
           {
            "colorbar": {
             "outlinewidth": 0,
             "ticks": ""
            },
            "colorscale": [
             [
              0,
              "#0d0887"
             ],
             [
              0.1111111111111111,
              "#46039f"
             ],
             [
              0.2222222222222222,
              "#7201a8"
             ],
             [
              0.3333333333333333,
              "#9c179e"
             ],
             [
              0.4444444444444444,
              "#bd3786"
             ],
             [
              0.5555555555555556,
              "#d8576b"
             ],
             [
              0.6666666666666666,
              "#ed7953"
             ],
             [
              0.7777777777777778,
              "#fb9f3a"
             ],
             [
              0.8888888888888888,
              "#fdca26"
             ],
             [
              1,
              "#f0f921"
             ]
            ],
            "type": "heatmap"
           }
          ],
          "heatmapgl": [
           {
            "colorbar": {
             "outlinewidth": 0,
             "ticks": ""
            },
            "colorscale": [
             [
              0,
              "#0d0887"
             ],
             [
              0.1111111111111111,
              "#46039f"
             ],
             [
              0.2222222222222222,
              "#7201a8"
             ],
             [
              0.3333333333333333,
              "#9c179e"
             ],
             [
              0.4444444444444444,
              "#bd3786"
             ],
             [
              0.5555555555555556,
              "#d8576b"
             ],
             [
              0.6666666666666666,
              "#ed7953"
             ],
             [
              0.7777777777777778,
              "#fb9f3a"
             ],
             [
              0.8888888888888888,
              "#fdca26"
             ],
             [
              1,
              "#f0f921"
             ]
            ],
            "type": "heatmapgl"
           }
          ],
          "histogram": [
           {
            "marker": {
             "pattern": {
              "fillmode": "overlay",
              "size": 10,
              "solidity": 0.2
             }
            },
            "type": "histogram"
           }
          ],
          "histogram2d": [
           {
            "colorbar": {
             "outlinewidth": 0,
             "ticks": ""
            },
            "colorscale": [
             [
              0,
              "#0d0887"
             ],
             [
              0.1111111111111111,
              "#46039f"
             ],
             [
              0.2222222222222222,
              "#7201a8"
             ],
             [
              0.3333333333333333,
              "#9c179e"
             ],
             [
              0.4444444444444444,
              "#bd3786"
             ],
             [
              0.5555555555555556,
              "#d8576b"
             ],
             [
              0.6666666666666666,
              "#ed7953"
             ],
             [
              0.7777777777777778,
              "#fb9f3a"
             ],
             [
              0.8888888888888888,
              "#fdca26"
             ],
             [
              1,
              "#f0f921"
             ]
            ],
            "type": "histogram2d"
           }
          ],
          "histogram2dcontour": [
           {
            "colorbar": {
             "outlinewidth": 0,
             "ticks": ""
            },
            "colorscale": [
             [
              0,
              "#0d0887"
             ],
             [
              0.1111111111111111,
              "#46039f"
             ],
             [
              0.2222222222222222,
              "#7201a8"
             ],
             [
              0.3333333333333333,
              "#9c179e"
             ],
             [
              0.4444444444444444,
              "#bd3786"
             ],
             [
              0.5555555555555556,
              "#d8576b"
             ],
             [
              0.6666666666666666,
              "#ed7953"
             ],
             [
              0.7777777777777778,
              "#fb9f3a"
             ],
             [
              0.8888888888888888,
              "#fdca26"
             ],
             [
              1,
              "#f0f921"
             ]
            ],
            "type": "histogram2dcontour"
           }
          ],
          "mesh3d": [
           {
            "colorbar": {
             "outlinewidth": 0,
             "ticks": ""
            },
            "type": "mesh3d"
           }
          ],
          "parcoords": [
           {
            "line": {
             "colorbar": {
              "outlinewidth": 0,
              "ticks": ""
             }
            },
            "type": "parcoords"
           }
          ],
          "pie": [
           {
            "automargin": true,
            "type": "pie"
           }
          ],
          "scatter": [
           {
            "fillpattern": {
             "fillmode": "overlay",
             "size": 10,
             "solidity": 0.2
            },
            "type": "scatter"
           }
          ],
          "scatter3d": [
           {
            "line": {
             "colorbar": {
              "outlinewidth": 0,
              "ticks": ""
             }
            },
            "marker": {
             "colorbar": {
              "outlinewidth": 0,
              "ticks": ""
             }
            },
            "type": "scatter3d"
           }
          ],
          "scattercarpet": [
           {
            "marker": {
             "colorbar": {
              "outlinewidth": 0,
              "ticks": ""
             }
            },
            "type": "scattercarpet"
           }
          ],
          "scattergeo": [
           {
            "marker": {
             "colorbar": {
              "outlinewidth": 0,
              "ticks": ""
             }
            },
            "type": "scattergeo"
           }
          ],
          "scattergl": [
           {
            "marker": {
             "colorbar": {
              "outlinewidth": 0,
              "ticks": ""
             }
            },
            "type": "scattergl"
           }
          ],
          "scattermapbox": [
           {
            "marker": {
             "colorbar": {
              "outlinewidth": 0,
              "ticks": ""
             }
            },
            "type": "scattermapbox"
           }
          ],
          "scatterpolar": [
           {
            "marker": {
             "colorbar": {
              "outlinewidth": 0,
              "ticks": ""
             }
            },
            "type": "scatterpolar"
           }
          ],
          "scatterpolargl": [
           {
            "marker": {
             "colorbar": {
              "outlinewidth": 0,
              "ticks": ""
             }
            },
            "type": "scatterpolargl"
           }
          ],
          "scatterternary": [
           {
            "marker": {
             "colorbar": {
              "outlinewidth": 0,
              "ticks": ""
             }
            },
            "type": "scatterternary"
           }
          ],
          "surface": [
           {
            "colorbar": {
             "outlinewidth": 0,
             "ticks": ""
            },
            "colorscale": [
             [
              0,
              "#0d0887"
             ],
             [
              0.1111111111111111,
              "#46039f"
             ],
             [
              0.2222222222222222,
              "#7201a8"
             ],
             [
              0.3333333333333333,
              "#9c179e"
             ],
             [
              0.4444444444444444,
              "#bd3786"
             ],
             [
              0.5555555555555556,
              "#d8576b"
             ],
             [
              0.6666666666666666,
              "#ed7953"
             ],
             [
              0.7777777777777778,
              "#fb9f3a"
             ],
             [
              0.8888888888888888,
              "#fdca26"
             ],
             [
              1,
              "#f0f921"
             ]
            ],
            "type": "surface"
           }
          ],
          "table": [
           {
            "cells": {
             "fill": {
              "color": "#EBF0F8"
             },
             "line": {
              "color": "white"
             }
            },
            "header": {
             "fill": {
              "color": "#C8D4E3"
             },
             "line": {
              "color": "white"
             }
            },
            "type": "table"
           }
          ]
         },
         "layout": {
          "annotationdefaults": {
           "arrowcolor": "#2a3f5f",
           "arrowhead": 0,
           "arrowwidth": 1
          },
          "autotypenumbers": "strict",
          "coloraxis": {
           "colorbar": {
            "outlinewidth": 0,
            "ticks": ""
           }
          },
          "colorscale": {
           "diverging": [
            [
             0,
             "#8e0152"
            ],
            [
             0.1,
             "#c51b7d"
            ],
            [
             0.2,
             "#de77ae"
            ],
            [
             0.3,
             "#f1b6da"
            ],
            [
             0.4,
             "#fde0ef"
            ],
            [
             0.5,
             "#f7f7f7"
            ],
            [
             0.6,
             "#e6f5d0"
            ],
            [
             0.7,
             "#b8e186"
            ],
            [
             0.8,
             "#7fbc41"
            ],
            [
             0.9,
             "#4d9221"
            ],
            [
             1,
             "#276419"
            ]
           ],
           "sequential": [
            [
             0,
             "#0d0887"
            ],
            [
             0.1111111111111111,
             "#46039f"
            ],
            [
             0.2222222222222222,
             "#7201a8"
            ],
            [
             0.3333333333333333,
             "#9c179e"
            ],
            [
             0.4444444444444444,
             "#bd3786"
            ],
            [
             0.5555555555555556,
             "#d8576b"
            ],
            [
             0.6666666666666666,
             "#ed7953"
            ],
            [
             0.7777777777777778,
             "#fb9f3a"
            ],
            [
             0.8888888888888888,
             "#fdca26"
            ],
            [
             1,
             "#f0f921"
            ]
           ],
           "sequentialminus": [
            [
             0,
             "#0d0887"
            ],
            [
             0.1111111111111111,
             "#46039f"
            ],
            [
             0.2222222222222222,
             "#7201a8"
            ],
            [
             0.3333333333333333,
             "#9c179e"
            ],
            [
             0.4444444444444444,
             "#bd3786"
            ],
            [
             0.5555555555555556,
             "#d8576b"
            ],
            [
             0.6666666666666666,
             "#ed7953"
            ],
            [
             0.7777777777777778,
             "#fb9f3a"
            ],
            [
             0.8888888888888888,
             "#fdca26"
            ],
            [
             1,
             "#f0f921"
            ]
           ]
          },
          "colorway": [
           "#636efa",
           "#EF553B",
           "#00cc96",
           "#ab63fa",
           "#FFA15A",
           "#19d3f3",
           "#FF6692",
           "#B6E880",
           "#FF97FF",
           "#FECB52"
          ],
          "font": {
           "color": "#2a3f5f"
          },
          "geo": {
           "bgcolor": "white",
           "lakecolor": "white",
           "landcolor": "#E5ECF6",
           "showlakes": true,
           "showland": true,
           "subunitcolor": "white"
          },
          "hoverlabel": {
           "align": "left"
          },
          "hovermode": "closest",
          "mapbox": {
           "style": "light"
          },
          "paper_bgcolor": "white",
          "plot_bgcolor": "#E5ECF6",
          "polar": {
           "angularaxis": {
            "gridcolor": "white",
            "linecolor": "white",
            "ticks": ""
           },
           "bgcolor": "#E5ECF6",
           "radialaxis": {
            "gridcolor": "white",
            "linecolor": "white",
            "ticks": ""
           }
          },
          "scene": {
           "xaxis": {
            "backgroundcolor": "#E5ECF6",
            "gridcolor": "white",
            "gridwidth": 2,
            "linecolor": "white",
            "showbackground": true,
            "ticks": "",
            "zerolinecolor": "white"
           },
           "yaxis": {
            "backgroundcolor": "#E5ECF6",
            "gridcolor": "white",
            "gridwidth": 2,
            "linecolor": "white",
            "showbackground": true,
            "ticks": "",
            "zerolinecolor": "white"
           },
           "zaxis": {
            "backgroundcolor": "#E5ECF6",
            "gridcolor": "white",
            "gridwidth": 2,
            "linecolor": "white",
            "showbackground": true,
            "ticks": "",
            "zerolinecolor": "white"
           }
          },
          "shapedefaults": {
           "line": {
            "color": "#2a3f5f"
           }
          },
          "ternary": {
           "aaxis": {
            "gridcolor": "white",
            "linecolor": "white",
            "ticks": ""
           },
           "baxis": {
            "gridcolor": "white",
            "linecolor": "white",
            "ticks": ""
           },
           "bgcolor": "#E5ECF6",
           "caxis": {
            "gridcolor": "white",
            "linecolor": "white",
            "ticks": ""
           }
          },
          "title": {
           "x": 0.05
          },
          "xaxis": {
           "automargin": true,
           "gridcolor": "white",
           "linecolor": "white",
           "ticks": "",
           "title": {
            "standoff": 15
           },
           "zerolinecolor": "white",
           "zerolinewidth": 2
          },
          "yaxis": {
           "automargin": true,
           "gridcolor": "white",
           "linecolor": "white",
           "ticks": "",
           "title": {
            "standoff": 15
           },
           "zerolinecolor": "white",
           "zerolinewidth": 2
          }
         }
        },
        "title": {
         "font": {
          "family": "serif",
          "size": 20
         },
         "text": "Genomsnittlig spelplats, Allsvenskan 1924-2023"
        },
        "width": 1080
       }
      }
     },
     "metadata": {},
     "output_type": "display_data"
    }
   ],
   "source": [
    "import plotly.express as px\n",
    "\n",
    "df_venues = final_rounds.merge(venues, on='team_id')\n",
    "mean_coords = df_venues.pivot_table(values=['venue_lat', 'venue_lon'], index='year')\n",
    "mean_coords\n",
    "\n",
    "wh = 1080\n",
    "\n",
    "center = dict(lat=mean_coords.venue_lat.mean()+.2, lon=mean_coords.venue_lon.mean())\n",
    "fig = px.scatter_mapbox(mean_coords, lat='venue_lat', lon='venue_lon', size='venue_lat', size_max=10, color=mean_coords.index, opacity=.7, center=center, color_continuous_scale='bluered', zoom=6.5, width=wh, height=wh)\n",
    "fig.update_layout(mapbox_style='carto-positron', paper_bgcolor='#D6D7D7', title=dict(text='Genomsnittlig spelplats, Allsvenskan 1924-2023', font=dict(family='serif', size=20)), margin=dict(autoexpand=True, l=25, t=50, r=25, b=25), font=dict(family='serif'))\n",
    "fig.show()\n"
   ]
  },
  {
   "cell_type": "code",
   "execution_count": null,
   "metadata": {},
   "outputs": [],
   "source": []
  }
 ],
 "metadata": {
  "kernelspec": {
   "display_name": "base",
   "language": "python",
   "name": "python3"
  },
  "language_info": {
   "codemirror_mode": {
    "name": "ipython",
    "version": 3
   },
   "file_extension": ".py",
   "mimetype": "text/x-python",
   "name": "python",
   "nbconvert_exporter": "python",
   "pygments_lexer": "ipython3",
   "version": "3.11.3"
  },
  "orig_nbformat": 4
 },
 "nbformat": 4,
 "nbformat_minor": 2
}
